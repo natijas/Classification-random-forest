{
 "cells": [
  {
   "cell_type": "code",
   "execution_count": 3,
   "id": "5233f7e2-7e20-45f8-a2e8-9fba8916b536",
   "metadata": {},
   "outputs": [],
   "source": [
    "from functools import partial\n",
    "\n",
    "import numpy as np\n",
    "import pandas as pd\n",
    "import seaborn as sns\n",
    "from matplotlib import pyplot as plt\n",
    "from sklearn.metrics import accuracy_score\n",
    "from sklearn.model_selection import StratifiedKFold\n",
    "from sklearn.tree import DecisionTreeClassifier\n",
    "\n",
    "from algorithms.C45 import C45\n",
    "from algorithms.ID3 import ID3\n",
    "from algorithms.RandomForest import RandomForest\n",
    "from algorithms.SklearnModel import SklearnModel\n",
    "from utils import load_gender_dataset, load_car_dataset\n",
    "\n",
    "def main() -> None:\n",
    "    df, discrete_columns = load_gender_dataset()\n",
    "\n",
    "    X, Y = df.drop(columns=['target']), df['target']\n",
    "\n",
    "    classifiers = [\n",
    "        # ('ID3', ID3(max_depth=5, features_to_use=list(set(discrete_columns.keys())))),\n",
    "        # ('C45',\n",
    "        #  C45(max_depth=5, discrete_features=list(discrete_columns.keys()), validation_ratio=0.0, random_state=42)),\n",
    "        ('DecisionTree', SklearnModel(DecisionTreeClassifier, max_depth=50, discrete_feature_order=discrete_columns)),\n",
    "        ('RandomForestC45', RandomForest(\n",
    "            n_estimators=20,\n",
    "            tree_constructor=partial(SklearnModel, DecisionTreeClassifier, max_depth=50, discrete_feature_order=discrete_columns),\n",
    "            # tree_constructor=partial(C45, max_depth=5, discrete_features=list(discrete_columns.keys()), validation_ratio=0.0),\n",
    "            max_features=6, bootstrap_fraction=0.8)),\n",
    "        ('RandomForestC45_noweighting', RandomForest(\n",
    "            n_estimators=20,\n",
    "            tree_constructor=partial(SklearnModel, DecisionTreeClassifier, max_depth=50,\n",
    "                                     discrete_feature_order=discrete_columns),\n",
    "            # tree_constructor=partial(C45, max_depth=5, discrete_features=list(discrete_columns.keys()), validation_ratio=0.0),\n",
    "            max_features=6, bootstrap_fraction=0.8, sampling_temperature=0)),\n",
    "    ]\n",
    "\n",
    "    accuracies = []\n",
    "\n",
    "    skf = StratifiedKFold(n_splits=5, shuffle=True, random_state=0)\n",
    "\n",
    "    for name, clf in classifiers:\n",
    "        accuracies.append([])\n",
    "        for train_idx, val_idx in skf.split(X, Y):\n",
    "            clf.fit(X.iloc[train_idx], Y.iloc[train_idx])\n",
    "            Y_pred = clf.predict(X.iloc[val_idx])\n",
    "            accuracy = accuracy_score(Y.iloc[val_idx], Y_pred)\n",
    "            accuracies[-1].append(accuracy)\n",
    "        print(f\"{name} Accuracy: {np.mean(accuracies[-1]):.4f} +/- {np.std(accuracies[-1]):.4f}\")\n",
    "\n",
    "    names, acc_values = zip(*classifiers)\n",
    "    plt.figure(figsize=(15, 5))\n",
    "    sns.barplot(data=pd.DataFrame([(name, acc) for name, accs in zip(names, accuracies) for acc in accs]), x=0, y=1)\n",
    "    plt.ylabel('Accuracy')\n",
    "    plt.title('Comparison of Classifier Accuracies on the Gender Classification Dataset')"
   ]
  },
  {
   "cell_type": "code",
   "execution_count": null,
   "id": "cb8b6b21-ae91-4479-b7dc-a280ea67dbcd",
   "metadata": {},
   "outputs": [],
   "source": []
  }
 ],
 "metadata": {
  "kernelspec": {
   "display_name": "Python 3 (ipykernel)",
   "language": "python",
   "name": "python3"
  },
  "language_info": {
   "codemirror_mode": {
    "name": "ipython",
    "version": 3
   },
   "file_extension": ".py",
   "mimetype": "text/x-python",
   "name": "python",
   "nbconvert_exporter": "python",
   "pygments_lexer": "ipython3",
   "version": "3.10.6"
  }
 },
 "nbformat": 4,
 "nbformat_minor": 5
}
